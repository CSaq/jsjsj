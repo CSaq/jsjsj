{
 "cells": [
  {
   "cell_type": "code",
   "execution_count": 18,
   "metadata": {
    "metadata": {}
   },
   "outputs": [],
   "source": [
    "import nibabel as nib\n",
    "import numpy as np\n",
    "from stl import mesh\n",
    "from skimage import measure\n",
    "import matplotlib as mpl"
   ]
  },
  {
   "cell_type": "code",
   "execution_count": 26,
   "metadata": {
    "metadata": {}
   },
   "outputs": [
    {
     "name": "stdout",
     "output_type": "stream",
     "text": [
      "(161, 338, 61)\n"
     ]
    }
   ],
   "source": [
    "# Path to the nifti file (.nii, .nii.gz)\n",
    "file_path = 'data/VerSe 2019/train/verse004.nii.gz'\n",
    "\n",
    "# Extract the numpy array\n",
    "nifti_file = nib.load(file_path)\n",
    "\n",
    "np_array = nifti_file.get_fdata()\n",
    "# print(np_array)\n",
    "print(np_array.shape)"
   ]
  },
  {
   "cell_type": "code",
   "execution_count": 25,
   "metadata": {
    "metadata": {}
   },
   "outputs": [
    {
     "name": "stdout",
     "output_type": "stream",
     "text": [
      "(161, 338, 61)\n"
     ]
    }
   ],
   "source": [
    "label_path = 'data/VerSe 2019/train/verse004_seg.nii.gz'\n",
    "label_file = nib.load(label_path)\n",
    "\n",
    "label = label_file.get_fdata()\n",
    "print(label.shape)"
   ]
  },
  {
   "cell_type": "code",
   "execution_count": 44,
   "metadata": {
    "metadata": {}
   },
   "outputs": [
    {
     "name": "stdout",
     "output_type": "stream",
     "text": [
      "Counter({0.0: 3116756, 23.0: 29982, 24.0: 29117, 22.0: 29006, 21.0: 26865, 19.0: 20660, 20.0: 19136, 18.0: 18134, 17.0: 15732, 16.0: 14110})\n",
      "(161, 338, 61) 3319498\n"
     ]
    }
   ],
   "source": [
    "import collections\n",
    "\n",
    "print(collections.Counter(label.flatten()))\n",
    "\n",
    "labeledData = np_array[label != 0]\n",
    "\n",
    "mask = label != 0\n",
    "print(mask.shape, mask.shape[0] * mask.shape[1] * mask.shape[2])"
   ]
  },
  {
   "cell_type": "code",
   "execution_count": 83,
   "metadata": {
    "metadata": {}
   },
   "outputs": [
    {
     "name": "stdout",
     "output_type": "stream",
     "text": [
      "2906.17138671875 -1304.8939208984375\n",
      "(161, 338, 61, 3)\n"
     ]
    },
    {
     "name": "stderr",
     "output_type": "stream",
     "text": [
      "100%|██████████| 161/161 [00:06<00:00, 26.08it/s]\n"
     ]
    },
    {
     "name": "stdout",
     "output_type": "stream",
     "text": [
      "(202742, 3) (202742, 3) (202742, 1)\n"
     ]
    }
   ],
   "source": [
    "from matplotlib import pyplot as plt\n",
    "import tqdm\n",
    "import cv2\n",
    "\n",
    "max_v = max(np_array.flatten())\n",
    "min_v = min(np_array.flatten())\n",
    "print(max_v, min_v)\n",
    "colors = (np_array - min_v) / (max_v - min_v)\n",
    "colors = np.expand_dims(colors, axis=-1)\n",
    "colors = np.repeat(colors, 3, axis=-1)\n",
    "# data = cv2.cvtColor(data, cv2.COLOR_GRAY2RGB)\n",
    "print(colors.shape)\n",
    "\n",
    "xyz = []\n",
    "colors_mask = []\n",
    "labels = []\n",
    "cmap_norm = mpl.colors.Normalize(vmin=min_v, vmax=max_v)\n",
    "\n",
    "for i in tqdm.tqdm(range(len(np_array))):\n",
    "    for j in range(len(np_array[i])):\n",
    "        for k in range(len(np_array[i][j])):\n",
    "            if mask[i][j][k] == 0:\n",
    "                continue\n",
    "            x, y, z = i, j, k\n",
    "            xyz.append([x, y, z])\n",
    "            colors_mask.append(colors[i][j][k])\n",
    "            labels.append(label[i][j][k])\n",
    "\n",
    "            # color = plt.get_cmap('brg')(cmap_norm(np_array[i][j][k]))[:3]\n",
    "            # colors.append(color)\n",
    "\n",
    "\n",
    "xyz = np.array(xyz)\n",
    "colors = np.array(colors_mask)\n",
    "labels = np.expand_dims(np.array(labels), axis=-1)\n",
    "print(xyz.shape, colors.shape, labels.shape)\n",
    "np.save('data/004.npy', np.concatenate([xyz, colors, labels], axis=1))"
   ]
  },
  {
   "cell_type": "code",
   "execution_count": 85,
   "metadata": {
    "metadata": {}
   },
   "outputs": [
    {
     "name": "stdout",
     "output_type": "stream",
     "text": [
      "(202742, 7)\n"
     ]
    }
   ],
   "source": [
    "xyzRgbLabel = np.load('data/004.npy')\n",
    "print(xyzRgbLabel.shape)\n",
    "\n",
    "xyzrgb = xyzRgbLabel[:, :6]\n",
    "xyz = xyzRgbLabel[:, :3]\n",
    "rgb = xyzRgbLabel[:, 3:6]\n",
    "label = xyzRgbLabel[:, 6]\n",
    "# print(xyzrgb)"
   ]
  },
  {
   "cell_type": "code",
   "execution_count": 93,
   "metadata": {
    "metadata": {}
   },
   "outputs": [
    {
     "data": {
      "text/plain": [
       "array([[2.20e+01, 2.25e+02, 2.40e+01, 1.00e+00, 0.00e+00, 3.00e-01],\n",
       "       [2.30e+01, 2.24e+02, 2.40e+01, 1.00e+00, 0.00e+00, 3.00e-01],\n",
       "       [2.30e+01, 2.25e+02, 2.40e+01, 1.00e+00, 0.00e+00, 3.00e-01],\n",
       "       ...,\n",
       "       [1.28e+02, 5.90e+01, 3.30e+01, 0.00e+00, 1.00e-01, 1.00e+00],\n",
       "       [1.28e+02, 6.00e+01, 3.20e+01, 0.00e+00, 1.00e-01, 1.00e+00],\n",
       "       [1.28e+02, 6.00e+01, 3.30e+01, 0.00e+00, 1.00e-01, 1.00e+00]])"
      ]
     },
     "execution_count": 93,
     "metadata": {},
     "output_type": "execute_result"
    }
   ],
   "source": [
    "from util.vis.helper_tool import Plot\n",
    "\n",
    "Plot.draw_pc_sem_ins(xyz, label)\n",
    "# Plot.draw_pc(xyzrgb)"
   ]
  }
 ],
 "metadata": {
  "kernelspec": {
   "display_name": "Spine",
   "language": "python",
   "name": "python3"
  },
  "language_info": {
   "codemirror_mode": {
    "name": "ipython",
    "version": 3
   },
   "file_extension": ".py",
   "mimetype": "text/x-python",
   "name": "python",
   "nbconvert_exporter": "python",
   "pygments_lexer": "ipython3",
   "version": "3.8.19"
  }
 },
 "nbformat": 4,
 "nbformat_minor": 2
}
