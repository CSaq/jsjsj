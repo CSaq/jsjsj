{
 "cells": [
  {
   "cell_type": "code",
   "execution_count": 1,
   "metadata": {
    "metadata": {}
   },
   "outputs": [],
   "source": [
    "import nibabel as nib\n",
    "import numpy as np\n",
    "from stl import mesh\n",
    "from skimage import measure\n",
    "import matplotlib as mpl"
   ]
  },
  {
   "cell_type": "code",
   "execution_count": 2,
   "metadata": {
    "metadata": {}
   },
   "outputs": [
    {
     "name": "stdout",
     "output_type": "stream",
     "text": [
      "(161, 338, 61)\n"
     ]
    }
   ],
   "source": [
    "# Path to the nifti file (.nii, .nii.gz)\n",
    "file_path = 'data/VerSe 2019/train/verse004.nii.gz'\n",
    "\n",
    "# Extract the numpy array\n",
    "nifti_file = nib.load(file_path)\n",
    "\n",
    "np_array = nifti_file.get_fdata()\n",
    "# print(np_array)\n",
    "print(np_array.shape)"
   ]
  },
  {
   "cell_type": "code",
   "execution_count": 3,
   "metadata": {
    "metadata": {}
   },
   "outputs": [
    {
     "name": "stdout",
     "output_type": "stream",
     "text": [
      "(161, 338, 61)\n"
     ]
    }
   ],
   "source": [
    "label_path = 'data/VerSe 2019/train/verse004_seg.nii.gz'\n",
    "label_file = nib.load(label_path)\n",
    "\n",
    "label = label_file.get_fdata()\n",
    "print(label.shape)"
   ]
  },
  {
   "cell_type": "code",
   "execution_count": 4,
   "metadata": {
    "metadata": {}
   },
   "outputs": [
    {
     "name": "stdout",
     "output_type": "stream",
     "text": [
      "Counter({0.0: 3116756, 23.0: 29982, 24.0: 29117, 22.0: 29006, 21.0: 26865, 19.0: 20660, 20.0: 19136, 18.0: 18134, 17.0: 15732, 16.0: 14110})\n",
      "(161, 338, 61) 3319498\n"
     ]
    }
   ],
   "source": [
    "import collections\n",
    "\n",
    "print(collections.Counter(label.flatten()))\n",
    "\n",
    "labeledData = np_array[label != 0]\n",
    "\n",
    "mask = label != 0\n",
    "print(mask.shape, mask.shape[0] * mask.shape[1] * mask.shape[2])"
   ]
  },
  {
   "cell_type": "code",
   "execution_count": 5,
   "metadata": {
    "metadata": {}
   },
   "outputs": [],
   "source": [
    "from matplotlib import pyplot as plt\n",
    "import tqdm\n",
    "import cv2\n",
    "\n",
    "def CTToPoint(np_array, mask):\n",
    "    max_v = max(np_array.flatten())\n",
    "    min_v = min(np_array.flatten())\n",
    "    print(max_v, min_v)\n",
    "    colors = (np_array - min_v) / (max_v - min_v)\n",
    "    colors = np.expand_dims(colors, axis=-1)\n",
    "    colors = np.repeat(colors, 3, axis=-1)\n",
    "    # data = cv2.cvtColor(data, cv2.COLOR_GRAY2RGB)\n",
    "    print(colors.shape)\n",
    "\n",
    "    xyz = []\n",
    "    colors_mask = []\n",
    "    labels = []\n",
    "    cmap_norm = mpl.colors.Normalize(vmin=min_v, vmax=max_v)\n",
    "\n",
    "    for i in tqdm.tqdm(range(len(np_array))):\n",
    "        for j in range(len(np_array[i])):\n",
    "            for k in range(len(np_array[i][j])):\n",
    "                if mask[i][j][k] == 0:\n",
    "                    continue\n",
    "                x, y, z = i, j, k\n",
    "                xyz.append([x, y, z])\n",
    "                colors_mask.append(colors[i][j][k])\n",
    "                labels.append(label[i][j][k])\n",
    "\n",
    "                # color = plt.get_cmap('brg')(cmap_norm(np_array[i][j][k]))[:3]\n",
    "                # colors.append(color)\n",
    "\n",
    "\n",
    "    xyz = np.array(xyz)\n",
    "    colors = np.array(colors_mask)\n",
    "    labels = np.expand_dims(np.array(labels), axis=-1)\n",
    "    print(xyz.shape, colors.shape, labels.shape)\n",
    "    np.save('data/004.npy', np.concatenate([xyz, colors, labels], axis=1))"
   ]
  },
  {
   "cell_type": "code",
   "execution_count": 6,
   "metadata": {
    "metadata": {}
   },
   "outputs": [
    {
     "name": "stdout",
     "output_type": "stream",
     "text": [
      "(202742, 7)\n"
     ]
    }
   ],
   "source": [
    "xyzRgbLabel = np.load('data/004.npy')\n",
    "print(xyzRgbLabel.shape)\n",
    "\n",
    "xyzrgb = xyzRgbLabel[:, :6]\n",
    "xyz = xyzRgbLabel[:, :3]\n",
    "rgb = xyzRgbLabel[:, 3:6]\n",
    "label = xyzRgbLabel[:, 6]\n",
    "# print(xyzrgb)"
   ]
  },
  {
   "cell_type": "code",
   "execution_count": 8,
   "metadata": {
    "metadata": {}
   },
   "outputs": [
    {
     "ename": "TypeError",
     "evalue": "unsupported operand type(s) for /: 'list' and 'int'",
     "output_type": "error",
     "traceback": [
      "\u001b[1;31m---------------------------------------------------------------------------\u001b[0m",
      "\u001b[1;31mTypeError\u001b[0m                                 Traceback (most recent call last)",
      "Cell \u001b[1;32mIn[8], line 3\u001b[0m\n\u001b[0;32m      1\u001b[0m \u001b[38;5;28;01mfrom\u001b[39;00m \u001b[38;5;21;01mutil\u001b[39;00m\u001b[38;5;21;01m.\u001b[39;00m\u001b[38;5;21;01mvis\u001b[39;00m\u001b[38;5;21;01m.\u001b[39;00m\u001b[38;5;21;01mhelper_tool\u001b[39;00m \u001b[38;5;28;01mimport\u001b[39;00m Plot\n\u001b[1;32m----> 3\u001b[0m \u001b[43mPlot\u001b[49m\u001b[38;5;241;43m.\u001b[39;49m\u001b[43mdraw_pc_sem_ins\u001b[49m\u001b[43m(\u001b[49m\u001b[43mxyz\u001b[49m\u001b[43m,\u001b[49m\u001b[43m \u001b[49m\u001b[43mlabel\u001b[49m\u001b[43m,\u001b[49m\u001b[43m \u001b[49m\u001b[38;5;28;43;01mNone\u001b[39;49;00m\u001b[43m,\u001b[49m\u001b[43m \u001b[49m\u001b[38;5;241;43m1\u001b[39;49m\u001b[43m)\u001b[49m\n\u001b[0;32m      4\u001b[0m \u001b[38;5;66;03m# Plot.draw_pc(xyzrgb)\u001b[39;00m\n",
      "File \u001b[1;32md:\\Documents\\competition\\jsjsj\\code\\util\\vis\\helper_tool.py:602\u001b[0m, in \u001b[0;36mPlot.draw_pc_sem_ins\u001b[1;34m(pc_xyz, pc_sem_ins, plot_colors, factor)\u001b[0m\n\u001b[0;32m    600\u001b[0m \u001b[38;5;28;01melse\u001b[39;00m:\n\u001b[0;32m    601\u001b[0m     ins_colors \u001b[38;5;241m=\u001b[39m Plot\u001b[38;5;241m.\u001b[39mrandom_colors(\u001b[38;5;28mlen\u001b[39m(np\u001b[38;5;241m.\u001b[39munique(pc_sem_ins)) \u001b[38;5;241m+\u001b[39m \u001b[38;5;241m1\u001b[39m, seed\u001b[38;5;241m=\u001b[39m\u001b[38;5;241m2\u001b[39m)\n\u001b[1;32m--> 602\u001b[0m     ins_colors \u001b[38;5;241m=\u001b[39m \u001b[43mins_colors\u001b[49m\u001b[43m \u001b[49m\u001b[38;5;241;43m/\u001b[39;49m\u001b[43m \u001b[49m\u001b[43mfactor\u001b[49m\n\u001b[0;32m    604\u001b[0m \u001b[38;5;66;03m##############################\u001b[39;00m\n\u001b[0;32m    605\u001b[0m sem_ins_labels \u001b[38;5;241m=\u001b[39m np\u001b[38;5;241m.\u001b[39munique(pc_sem_ins)\n",
      "\u001b[1;31mTypeError\u001b[0m: unsupported operand type(s) for /: 'list' and 'int'"
     ]
    }
   ],
   "source": [
    "from util.vis.helper_tool import Plot\n",
    "\n",
    "Plot.draw_pc_sem_ins(xyz, label, None, 1)\n",
    "# Plot.draw_pc(xyzrgb)"
   ]
  }
 ],
 "metadata": {
  "kernelspec": {
   "display_name": "Spine",
   "language": "python",
   "name": "python3"
  },
  "language_info": {
   "codemirror_mode": {
    "name": "ipython",
    "version": 3
   },
   "file_extension": ".py",
   "mimetype": "text/x-python",
   "name": "python",
   "nbconvert_exporter": "python",
   "pygments_lexer": "ipython3",
   "version": "3.8.19"
  }
 },
 "nbformat": 4,
 "nbformat_minor": 2
}
